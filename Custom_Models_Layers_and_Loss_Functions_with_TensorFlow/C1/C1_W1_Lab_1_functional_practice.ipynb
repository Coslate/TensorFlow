{
  "cells": [
    {
      "cell_type": "markdown",
      "metadata": {
        "id": "lTjhOT-S6T0V"
      },
      "source": [
        "# Ungraded Lab: Practice with the Keras Functional API\n",
        "\n",
        "This lab will demonstrate how to build models with the Functional syntax. You'll build one using the Sequential API and see how you can do the same with the Functional API. Both will arrive at the same architecture and you can train and evaluate it as usual."
      ]
    },
    {
      "cell_type": "markdown",
      "metadata": {
        "id": "wtpd3bmd6T0Y"
      },
      "source": [
        "## Imports"
      ]
    },
    {
      "cell_type": "code",
      "execution_count": 8,
      "metadata": {
        "colab": {
          "base_uri": "https://localhost:8080/"
        },
        "id": "zGB2OU9H6T0Y",
        "outputId": "a06098e8-b493-4146-a2aa-b046f8e1bba5"
      },
      "outputs": [
        {
          "output_type": "stream",
          "name": "stdout",
          "text": [
            "Colab only includes TensorFlow 2.x; %tensorflow_version has no effect.\n"
          ]
        }
      ],
      "source": [
        "try:\n",
        "  # %tensorflow_version only exists in Colab.\n",
        "  %tensorflow_version 2.x\n",
        "except Exception:\n",
        "  pass\n",
        "\n",
        "import tensorflow as tf\n",
        "#from tensorflow.python.keras.utils.vis_utils import plot_model\n",
        "from tensorflow.keras.utils import plot_model\n",
        "import pydot\n",
        "from tensorflow.keras.models import Model"
      ]
    },
    {
      "cell_type": "markdown",
      "metadata": {
        "id": "hg1CGxz86T0Z"
      },
      "source": [
        "## Sequential API\n",
        "\n",
        "Here is how we use the `Sequential()` class to build a model."
      ]
    },
    {
      "cell_type": "code",
      "execution_count": 9,
      "metadata": {
        "id": "04Y-C9RYUTes"
      },
      "outputs": [],
      "source": [
        "def build_model_with_sequential():\n",
        "    \n",
        "    # instantiate a Sequential class and linearly stack the layers of your model\n",
        "    seq_model = tf.keras.models.Sequential([tf.keras.layers.Flatten(input_shape=(28, 28)),\n",
        "                         tf.keras.layers.Dense(128, activation=tf.nn.relu),\n",
        "                         tf.keras.layers.Dense(10, activation=tf.nn.softmax)])\n",
        "    return seq_model"
      ]
    },
    {
      "cell_type": "markdown",
      "metadata": {
        "id": "c1hxTN-l6T0a"
      },
      "source": [
        "## Functional API\n",
        "\n",
        "And here is how you build the same model above with the functional syntax."
      ]
    },
    {
      "cell_type": "code",
      "execution_count": 10,
      "metadata": {
        "id": "Z5Y2vOFC6T0a"
      },
      "outputs": [],
      "source": [
        "def build_model_with_functional():\n",
        "    \n",
        "    # instantiate the input Tensor\n",
        "    input_layer = tf.keras.Input(shape=(28, 28))\n",
        "    \n",
        "    # stack the layers using the syntax: new_layer()(previous_layer)\n",
        "    flatten_layer = tf.keras.layers.Flatten()(input_layer)\n",
        "    first_dense = tf.keras.layers.Dense(128, activation=tf.nn.relu)(flatten_layer)\n",
        "    output_layer = tf.keras.layers.Dense(10, activation=tf.nn.softmax)(first_dense)\n",
        "    \n",
        "    # declare inputs and outputs\n",
        "    func_model = Model(inputs=input_layer, outputs=output_layer)\n",
        "    \n",
        "    return func_model"
      ]
    },
    {
      "cell_type": "markdown",
      "metadata": {
        "id": "eD5M5rX66T0b"
      },
      "source": [
        "## Build the model and visualize the model graph"
      ]
    },
    {
      "cell_type": "markdown",
      "metadata": {
        "id": "isCnsDq46T0b"
      },
      "source": [
        "You can choose how to build your model below. Just uncomment which function you'd like to use. You'll notice that the plot will look the same."
      ]
    },
    {
      "cell_type": "code",
      "execution_count": 13,
      "metadata": {
        "colab": {
          "base_uri": "https://localhost:8080/",
          "height": 422
        },
        "id": "uQYKNCeE6T0b",
        "outputId": "9ce6e7c5-7136-4f91-dff6-f8346cd91ff6"
      },
      "outputs": [
        {
          "output_type": "execute_result",
          "data": {
            "image/png": "[encoded data removed]",
            "text/plain": [
              "<IPython.core.display.Image object>"
            ]
          },
          "metadata": {},
          "execution_count": 13
        }
      ],
      "source": [
        "model = build_model_with_functional()\n",
        "#model = build_model_with_sequential()\n",
        "\n",
        "# Plot model graph\n",
        "plot_model(model, show_shapes=True, show_layer_names=True, to_file='model.png')"
      ]
    },
    {
      "cell_type": "markdown",
      "metadata": {
        "id": "xNp61PXQ6T0b"
      },
      "source": [
        "## Training the model\n",
        "\n",
        "Regardless if you built it with the Sequential or Functional API, you'll follow the same steps when training and evaluating your model."
      ]
    },
    {
      "cell_type": "code",
      "execution_count": 14,
      "metadata": {
        "colab": {
          "base_uri": "https://localhost:8080/"
        },
        "id": "6hBYGsAR6T0b",
        "outputId": "2727963d-efd4-4c84-da5f-7b537f2382f6"
      },
      "outputs": [
        {
          "output_type": "stream",
          "name": "stdout",
          "text": [
            "Downloading data from https://storage.googleapis.com/tensorflow/tf-keras-datasets/train-labels-idx1-ubyte.gz\n",
            "29515/29515 [==============================] - 0s 0us/step\n",
            "Downloading data from https://storage.googleapis.com/tensorflow/tf-keras-datasets/train-images-idx3-ubyte.gz\n",
            "26421880/26421880 [==============================] - 0s 0us/step\n",
            "Downloading data from https://storage.googleapis.com/tensorflow/tf-keras-datasets/t10k-labels-idx1-ubyte.gz\n",
            "5148/5148 [==============================] - 0s 0us/step\n",
            "Downloading data from https://storage.googleapis.com/tensorflow/tf-keras-datasets/t10k-images-idx3-ubyte.gz\n",
            "4422102/4422102 [==============================] - 0s 0us/step\n",
            "[9 0 0 ... 3 0 5]\n",
            "Epoch 1/5\n",
            "1875/1875 [==============================] - 8s 4ms/step - loss: 0.5007 - accuracy: 0.8250\n",
            "Epoch 2/5\n",
            "1875/1875 [==============================] - 8s 4ms/step - loss: 0.3757 - accuracy: 0.8663\n",
            "Epoch 3/5\n",
            "1875/1875 [==============================] - 7s 4ms/step - loss: 0.3355 - accuracy: 0.8782\n",
            "Epoch 4/5\n",
            "1875/1875 [==============================] - 8s 4ms/step - loss: 0.3144 - accuracy: 0.8847\n",
            "Epoch 5/5\n",
            "1875/1875 [==============================] - 8s 4ms/step - loss: 0.2950 - accuracy: 0.8913\n",
            "313/313 [==============================] - 1s 2ms/step - loss: 0.3448 - accuracy: 0.8744\n"
          ]
        },
        {
          "output_type": "execute_result",
          "data": {
            "text/plain": [
              "[0.34481003880500793, 0.8744000196456909]"
            ]
          },
          "metadata": {},
          "execution_count": 14
        }
      ],
      "source": [
        "# prepare fashion mnist dataset\n",
        "mnist = tf.keras.datasets.fashion_mnist\n",
        "(training_images, training_labels), (test_images, test_labels) = mnist.load_data()\n",
        "training_images = training_images / 255.0\n",
        "test_images = test_images / 255.0\n",
        "\n",
        "print(f\"{training_labels}\")\n",
        "\n",
        "# configure, train, and evaluate the model\n",
        "model.compile(optimizer=tf.optimizers.Adam(),\n",
        "              loss='sparse_categorical_crossentropy',\n",
        "              metrics=['accuracy'])\n",
        "model.fit(training_images, training_labels, epochs=5)\n",
        "model.evaluate(test_images, test_labels)"
      ]
    },
    {
      "cell_type": "code",
      "source": [],
      "metadata": {
        "id": "0GrpfUxN-rxY"
      },
      "execution_count": null,
      "outputs": []
    }
  ],
  "metadata": {
    "colab": {
      "provenance": []
    },
    "kernelspec": {
      "display_name": "Python 3",
      "language": "python",
      "name": "python3"
    },
    "language_info": {
      "codemirror_mode": {
        "name": "ipython",
        "version": 3
      },
      "file_extension": ".py",
      "mimetype": "text/x-python",
      "name": "python",
      "nbconvert_exporter": "python",
      "pygments_lexer": "ipython3",
      "version": "3.7.6"
    }
  },
  "nbformat": 4,
  "nbformat_minor": 0
}