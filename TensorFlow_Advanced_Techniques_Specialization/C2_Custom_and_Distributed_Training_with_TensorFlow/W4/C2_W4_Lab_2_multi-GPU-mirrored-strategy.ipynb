{
  "cells": [
    {
      "cell_type": "markdown",
      "metadata": {
        "id": "2CUZY2vgOthk"
      },
      "source": [
        "<a href=\"https://colab.research.google.com/github/https-deeplearning-ai/tensorflow-3-public/blob/main/Course%202%20-%20Custom%20Training%20loops%2C%20Gradients%20and%20Distributed%20Training/Week%204%20-%20Distribution%20Strategy/C2_W4_Lab_2_multi-GPU-mirrored-strategy.ipynb\" target=\"_parent\"><img src=\"https://colab.research.google.com/assets/colab-badge.svg\" alt=\"Open In Colab\"/></a>"
      ]
    },
    {
      "cell_type": "markdown",
      "metadata": {
        "id": "ql6ndYJlOthp"
      },
      "source": [
        "# Multi-GPU Mirrored Strategy\n",
        "\n",
        "In this ungraded lab, you'll go through how to set up a Multi-GPU Mirrored Strategy. The lab environment only has a CPU but we placed the code here in case you want to try this out for yourself in a multiGPU device.\n",
        "\n",
        "**Notes:**\n",
        "- If you are running this on Coursera, you'll see it gives a warning about no presence of GPU devices.\n",
        "- If you are running this in Colab, make sure you have selected your `runtime` to be `GPU`.\n",
        "- In both these cases, you'll see there's only 1 device that is available.\n",
        "- One device is sufficient for helping you understand these distribution strategies."
      ]
    },
    {
      "cell_type": "markdown",
      "metadata": {
        "id": "GXIXNbYJOthp"
      },
      "source": [
        "## Imports"
      ]
    },
    {
      "cell_type": "code",
      "execution_count": 8,
      "metadata": {
        "id": "O_Evp0CVOthq"
      },
      "outputs": [],
      "source": [
        "import tensorflow as tf\n",
        "import numpy as np\n",
        "import os"
      ]
    },
    {
      "cell_type": "markdown",
      "metadata": {
        "id": "IHS-_F1DOthr"
      },
      "source": [
        "## Setup Distribution Strategy"
      ]
    },
    {
      "cell_type": "code",
      "execution_count": 9,
      "metadata": {
        "colab": {
          "base_uri": "https://localhost:8080/"
        },
        "id": "pjyK1OXjOthr",
        "outputId": "68eab1f3-9641-4cc7-fef5-b4e5b91549c7"
      },
      "outputs": [
        {
          "output_type": "stream",
          "name": "stdout",
          "text": [
            "Number of devices: 1\n"
          ]
        }
      ],
      "source": [
        "# Note that it generally has a minimum of 8 cores, but if your GPU has\n",
        "# less, you need to set this. In this case one of my GPUs has 4 cores\n",
        "os.environ[\"TF_MIN_GPU_MULTIPROCESSOR_COUNT\"] = \"4\"\n",
        "\n",
        "# If the list of devices is not specified in the\n",
        "# `tf.distribute.MirroredStrategy` constructor, it will be auto-detected.\n",
        "# If you have *different* GPUs in your system, you probably have to set up cross_device_ops like this\n",
        "strategy = tf.distribute.MirroredStrategy(cross_device_ops=tf.distribute.HierarchicalCopyAllReduce())\n",
        "print ('Number of devices: {}'.format(strategy.num_replicas_in_sync))"
      ]
    },
    {
      "cell_type": "markdown",
      "metadata": {
        "id": "O3KVAXjrOths"
      },
      "source": [
        "## Prepare the Data"
      ]
    },
    {
      "cell_type": "code",
      "execution_count": 10,
      "metadata": {
        "colab": {
          "base_uri": "https://localhost:8080/"
        },
        "id": "tZz9XPECOtht",
        "outputId": "649024de-befa-4b7c-e41c-4591e0b962cc"
      },
      "outputs": [
        {
          "output_type": "stream",
          "name": "stdout",
          "text": [
            "train_images.shape = (60000, 28, 28, 1)\n",
            "test_images.shape = (10000, 28, 28, 1)\n",
            "len(train_images = 60000)\n",
            "ele.shape = (64, 28, 28, 1)\n",
            "ele.shape = (64,)\n",
            "---------------\n",
            "ele.shape = (64, 28, 28, 1)\n",
            "ele.shape = (64,)\n",
            "---------------\n",
            "batch_cnt_tr = 938\n",
            "batch_cnt_te = 157\n"
          ]
        }
      ],
      "source": [
        "# Get the data\n",
        "fashion_mnist = tf.keras.datasets.fashion_mnist\n",
        "(train_images, train_labels), (test_images, test_labels) = fashion_mnist.load_data()\n",
        "\n",
        "# Adding a dimension to the array -> new shape == (28, 28, 1)\n",
        "# We are doing this because the first layer in our model is a convolutional\n",
        "# layer and it requires a 4D input (batch_size, height, width, channels).\n",
        "# batch_size dimension will be added later on.\n",
        "train_images = train_images[..., None]\n",
        "test_images = test_images[..., None]\n",
        "print(f\"train_images.shape = {np.shape(train_images)}\")\n",
        "print(f\"test_images.shape = {np.shape(test_images)}\")\n",
        "print(f\"len(train_images = {len(train_images)})\")\n",
        "\n",
        "# Normalize the images to [0, 1] range.\n",
        "train_images = train_images / np.float32(255)\n",
        "test_images = test_images / np.float32(255)\n",
        "\n",
        "# Batch the input data\n",
        "BUFFER_SIZE = len(train_images)\n",
        "BATCH_SIZE_PER_REPLICA = 64\n",
        "GLOBAL_BATCH_SIZE = BATCH_SIZE_PER_REPLICA * strategy.num_replicas_in_sync\n",
        "\n",
        "# Create Datasets from the batches\n",
        "train_dataset = tf.data.Dataset.from_tensor_slices((train_images, train_labels)).shuffle(BUFFER_SIZE).batch(GLOBAL_BATCH_SIZE)\n",
        "test_dataset = tf.data.Dataset.from_tensor_slices((test_images, test_labels)).batch(GLOBAL_BATCH_SIZE)\n",
        "\n",
        "# Create Distributed Datasets from the datasets\n",
        "train_dist_dataset = strategy.experimental_distribute_dataset(train_dataset)\n",
        "test_dist_dataset = strategy.experimental_distribute_dataset(test_dataset)\n",
        "batch_cnt_tr = 0\n",
        "batch_cnt_te = 0\n",
        "i = 0\n",
        "for batch in train_dist_dataset:\n",
        "  if i == 0:\n",
        "    for ele in batch:\n",
        "      print(f\"ele.shape = {ele.shape}\")\n",
        "\n",
        "    print(f\"---------------\")\n",
        "  i += 1\n",
        "  batch_cnt_tr += 1\n",
        "\n",
        "i = 0\n",
        "for batch in test_dist_dataset:\n",
        "  if i == 0:\n",
        "    for ele in batch:\n",
        "      print(f\"ele.shape = {ele.shape}\")\n",
        "    print(f\"---------------\")\n",
        "  i += 1\n",
        "  batch_cnt_te += 1\n",
        "\n",
        "print(f\"batch_cnt_tr = {batch_cnt_tr}\")\n",
        "print(f\"batch_cnt_te = {batch_cnt_te}\")\n",
        "\n",
        "#print(f\"train_dist_dataset = {train_dist_dataset}\")\n",
        "#print(f\"test_dist_dataset = {test_dist_dataset}\")"
      ]
    },
    {
      "cell_type": "markdown",
      "metadata": {
        "id": "prKYFBtkOthu"
      },
      "source": [
        "## Define the Model"
      ]
    },
    {
      "cell_type": "code",
      "execution_count": 11,
      "metadata": {
        "id": "wHmwwfDzOthu"
      },
      "outputs": [],
      "source": [
        "# Create the model architecture\n",
        "def create_model():\n",
        "  model = tf.keras.Sequential([\n",
        "      tf.keras.layers.Conv2D(32, 3, activation='relu'),\n",
        "      tf.keras.layers.MaxPooling2D(),\n",
        "      tf.keras.layers.Conv2D(64, 3, activation='relu'),\n",
        "      tf.keras.layers.MaxPooling2D(),\n",
        "      tf.keras.layers.Flatten(),\n",
        "      tf.keras.layers.Dense(64, activation='relu'),\n",
        "      tf.keras.layers.Dense(10)\n",
        "    ])\n",
        "  return model"
      ]
    },
    {
      "cell_type": "markdown",
      "metadata": {
        "id": "GBRotr-7Othv"
      },
      "source": [
        "## Configure custom training\n",
        "\n",
        "Instead of `model.compile()`, we're going to do custom training, so let's do that within a strategy scope."
      ]
    },
    {
      "cell_type": "code",
      "execution_count": 12,
      "metadata": {
        "id": "sqG9TD3eOthv"
      },
      "outputs": [],
      "source": [
        "with strategy.scope():\n",
        "    # We will use sparse categorical crossentropy as always. But, instead of having the loss function\n",
        "    # manage the map reduce across GPUs for us, we'll do it ourselves with a simple algorithm.\n",
        "    # Remember -- the map reduce is how the losses get aggregated\n",
        "    # Set reduction to `none` so we can do the reduction afterwards and divide byglobal batch size.\n",
        "    loss_object = tf.keras.losses.SparseCategoricalCrossentropy(from_logits=True, reduction=tf.keras.losses.Reduction.NONE)\n",
        "\n",
        "    def compute_loss(labels, predictions):\n",
        "        # Compute Loss uses the loss object to compute the loss\n",
        "        # Notice that per_example_loss will have an entry per GPU\n",
        "        # so in this case there'll be 2 -- i.e. the loss for each replica\n",
        "        per_example_loss = loss_object(labels, predictions)\n",
        "        # You can print it to see it -- you'll get output like this:\n",
        "        # Tensor(\"sparse_categorical_crossentropy/weighted_loss/Mul:0\", shape=(48,), dtype=float32, device=/job:localhost/replica:0/task:0/device:GPU:0)\n",
        "        # Tensor(\"replica_1/sparse_categorical_crossentropy/weighted_loss/Mul:0\", shape=(48,), dtype=float32, device=/job:localhost/replica:0/task:0/device:GPU:1)\n",
        "        # Note in particular that replica_0 isn't named in the weighted_loss -- the first is unnamed, the second is replica_1 etc\n",
        "        print(f\"per_example_loss = {per_example_loss}\")\n",
        "        #tf.print(f\"per_example_loss = {per_example_loss}\")\n",
        "        #tf.print(f\"per_example_loss.dtype = {per_example_loss.dtype}\")\n",
        "        #tf.print(f\"per_example_loss.get_shape() = {per_example_loss.get_shape()}\")\n",
        "        return tf.nn.compute_average_loss(per_example_loss, global_batch_size=GLOBAL_BATCH_SIZE)\n",
        "\n",
        "    # We'll just reduce by getting the average of the losses\n",
        "    test_loss = tf.keras.metrics.Mean(name='test_loss')\n",
        "\n",
        "    # Accuracy on train and test will be SparseCategoricalAccuracy\n",
        "    train_accuracy = tf.keras.metrics.SparseCategoricalAccuracy(name='train_accuracy')\n",
        "    test_accuracy = tf.keras.metrics.SparseCategoricalAccuracy(name='test_accuracy')\n",
        "\n",
        "    # Optimizer will be Adam\n",
        "    optimizer = tf.keras.optimizers.Adam()\n",
        "\n",
        "    # Create the model within the scope\n",
        "    model = create_model()"
      ]
    },
    {
      "cell_type": "markdown",
      "metadata": {
        "id": "W_WbPk71Othw"
      },
      "source": [
        "## Train and Test Steps Functions\n",
        "\n",
        "Let's define a few utilities to facilitate the training."
      ]
    },
    {
      "cell_type": "code",
      "execution_count": 13,
      "metadata": {
        "id": "k0VOdqKP2NEz"
      },
      "outputs": [],
      "source": [
        "# `run` replicates the provided computation and runs it\n",
        "# with the distributed input.\n",
        "@tf.function\n",
        "def distributed_train_step(dataset_inputs):\n",
        "  per_replica_losses = strategy.run(train_step, args=(dataset_inputs,))\n",
        "  #tf.print(f\"local_result = {strategy.experimental_local_results(per_replica_losses)}\")\n",
        "  print(f\"per_replica_losses = {per_replica_losses}\")\n",
        "  #tf.print(f'per_replica_losses = {per_replica_losses}')\n",
        "  #tf.print(f'per_replica_losses.dtype = {per_replica_losses.dtype}')\n",
        "  #tf.print(f'per_replica_losses.get_shape() = {per_replica_losses.get_shape()}')\n",
        "  return strategy.reduce(tf.distribute.ReduceOp.SUM, per_replica_losses, axis=None)\n",
        "\n",
        "def train_step(inputs):\n",
        "  images, labels = inputs\n",
        "  with tf.GradientTape() as tape:\n",
        "    predictions = model(images, training=True)\n",
        "    loss = compute_loss(labels, predictions)\n",
        "\n",
        "  gradients = tape.gradient(loss, model.trainable_variables)\n",
        "  optimizer.apply_gradients(zip(gradients, model.trainable_variables))\n",
        "\n",
        "  train_accuracy.update_state(labels, predictions)\n",
        "  return loss\n",
        "\n",
        "#######################\n",
        "# Test Steps Functions\n",
        "#######################\n",
        "@tf.function\n",
        "def distributed_test_step(dataset_inputs):\n",
        "  return strategy.run(test_step, args=(dataset_inputs,))\n",
        "\n",
        "def test_step(inputs):\n",
        "  images, labels = inputs\n",
        "\n",
        "  predictions = model(images, training=False)\n",
        "  t_loss = loss_object(labels, predictions)\n",
        "\n",
        "  test_loss.update_state(t_loss)\n",
        "  test_accuracy.update_state(labels, predictions)\n",
        "\n",
        "\n"
      ]
    },
    {
      "cell_type": "markdown",
      "metadata": {
        "id": "a_7JvJFqOthx"
      },
      "source": [
        "## Training Loop\n",
        "\n",
        "We can now start training the model."
      ]
    },
    {
      "cell_type": "code",
      "execution_count": 14,
      "metadata": {
        "colab": {
          "base_uri": "https://localhost:8080/"
        },
        "id": "rhu5T3TvOthx",
        "outputId": "66322775-038c-4b6c-f8c7-d04784625a28"
      },
      "outputs": [
        {
          "output_type": "stream",
          "name": "stdout",
          "text": [
            "per_example_loss = Tensor(\"sparse_categorical_crossentropy/weighted_loss/Mul:0\", shape=(64,), dtype=float32, device=/job:localhost/replica:0/task:0/device:GPU:0)\n",
            "per_replica_losses = Tensor(\"truediv:0\", shape=(), dtype=float32, device=/job:localhost/replica:0/task:0/device:GPU:0)\n",
            "per_example_loss = Tensor(\"sparse_categorical_crossentropy/weighted_loss/Mul:0\", shape=(64,), dtype=float32, device=/job:localhost/replica:0/task:0/device:GPU:0)\n",
            "per_replica_losses = Tensor(\"truediv:0\", shape=(), dtype=float32, device=/job:localhost/replica:0/task:0/device:GPU:0)\n",
            "per_example_loss = Tensor(\"sparse_categorical_crossentropy/weighted_loss/Mul:0\", shape=(32,), dtype=float32, device=/job:localhost/replica:0/task:0/device:GPU:0)\n",
            "per_replica_losses = Tensor(\"truediv:0\", shape=(), dtype=float32, device=/job:localhost/replica:0/task:0/device:GPU:0)\n",
            "num_batches = 938\n",
            "Epoch 1, Loss: 0.49361568689346313, Accuracy: 82.28166961669922, Test Loss: 0.3877059519290924, Test Accuracy: 86.08999633789062\n",
            "num_batches = 938\n",
            "Epoch 2, Loss: 0.32955455780029297, Accuracy: 88.11000061035156, Test Loss: 0.3308774530887604, Test Accuracy: 87.93000030517578\n",
            "num_batches = 938\n",
            "Epoch 3, Loss: 0.28407004475593567, Accuracy: 89.663330078125, Test Loss: 0.2959710955619812, Test Accuracy: 89.20000457763672\n",
            "num_batches = 938\n",
            "Epoch 4, Loss: 0.2573603689670563, Accuracy: 90.47333526611328, Test Loss: 0.27732154726982117, Test Accuracy: 90.09000396728516\n",
            "num_batches = 938\n",
            "Epoch 5, Loss: 0.23419182002544403, Accuracy: 91.37999725341797, Test Loss: 0.2625531852245331, Test Accuracy: 90.31999969482422\n",
            "num_batches = 938\n",
            "Epoch 6, Loss: 0.21421261131763458, Accuracy: 92.05166625976562, Test Loss: 0.27036967873573303, Test Accuracy: 90.13999938964844\n",
            "num_batches = 938\n",
            "Epoch 7, Loss: 0.19595760107040405, Accuracy: 92.73832702636719, Test Loss: 0.2654361426830292, Test Accuracy: 90.24000549316406\n",
            "num_batches = 938\n",
            "Epoch 8, Loss: 0.18044239282608032, Accuracy: 93.37833404541016, Test Loss: 0.2704070806503296, Test Accuracy: 90.3800048828125\n",
            "num_batches = 938\n",
            "Epoch 9, Loss: 0.16805945336818695, Accuracy: 93.75, Test Loss: 0.252821147441864, Test Accuracy: 91.18999481201172\n",
            "num_batches = 938\n",
            "Epoch 10, Loss: 0.1535540372133255, Accuracy: 94.2683334350586, Test Loss: 0.2692517936229706, Test Accuracy: 90.47000122070312\n"
          ]
        }
      ],
      "source": [
        "EPOCHS = 10\n",
        "for epoch in range(EPOCHS):\n",
        "  # Do Training\n",
        "  total_loss = 0.0\n",
        "  num_batches = 0\n",
        "  for batch in train_dist_dataset:\n",
        "    total_loss += distributed_train_step(batch)\n",
        "    num_batches += 1\n",
        "  train_loss = total_loss / num_batches\n",
        "  print(f\"num_batches = {num_batches}\")\n",
        "\n",
        "  # Do Testing\n",
        "  for batch in test_dist_dataset:\n",
        "    distributed_test_step(batch)\n",
        "\n",
        "  template = (\"Epoch {}, Loss: {}, Accuracy: {}, Test Loss: {}, \" \"Test Accuracy: {}\")\n",
        "\n",
        "  print (template.format(epoch+1, train_loss, train_accuracy.result()*100, test_loss.result(), test_accuracy.result()*100))\n",
        "\n",
        "  test_loss.reset_states()\n",
        "  train_accuracy.reset_states()\n",
        "  test_accuracy.reset_states()"
      ]
    }
  ],
  "metadata": {
    "colab": {
      "provenance": [],
      "gpuType": "T4"
    },
    "kernelspec": {
      "display_name": "Python 3",
      "name": "python3"
    },
    "language_info": {
      "codemirror_mode": {
        "name": "ipython",
        "version": 3
      },
      "file_extension": ".py",
      "mimetype": "text/x-python",
      "name": "python",
      "nbconvert_exporter": "python",
      "pygments_lexer": "ipython3",
      "version": "3.7.6"
    },
    "accelerator": "GPU"
  },
  "nbformat": 4,
  "nbformat_minor": 0
}