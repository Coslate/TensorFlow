{
  "cells": [
    {
      "cell_type": "markdown",
      "metadata": {
        "id": "80vFPyEkKeqw"
      },
      "source": [
        "<a href=\"https://colab.research.google.com/github/https-deeplearning-ai/tensorflow-3-public/blob/main/Course%202%20-%20Custom%20Training%20loops%2C%20Gradients%20and%20Distributed%20Training/Week%204%20-%20Distribution%20Strategy/C2_W4_Lab_1_basic-mirrored-strategy.ipynb\" target=\"_parent\"><img src=\"https://colab.research.google.com/assets/colab-badge.svg\" alt=\"Open In Colab\"/></a>"
      ]
    },
    {
      "cell_type": "markdown",
      "metadata": {
        "id": "okUSPBDDKeq1"
      },
      "source": [
        "# Mirrored Strategy: Basic\n",
        "\n",
        "In this ungraded lab, you'll go through some of the basics of applying [Mirrored Strategy](https://www.tensorflow.org/api_docs/python/tf/distribute/MirroredStrategy)."
      ]
    },
    {
      "cell_type": "markdown",
      "metadata": {
        "id": "hwgEJRTsKeq2"
      },
      "source": [
        "## Imports"
      ]
    },
    {
      "cell_type": "code",
      "execution_count": 20,
      "metadata": {
        "id": "TkUjfmKkflCd"
      },
      "outputs": [],
      "source": [
        "# Import TensorFlow and TensorFlow Datasets\n",
        "\n",
        "import tensorflow_datasets as tfds\n",
        "import tensorflow as tf\n",
        "tfds.disable_progress_bar()\n",
        "\n",
        "import os"
      ]
    },
    {
      "cell_type": "markdown",
      "metadata": {
        "id": "SJIvSc4uKeq4"
      },
      "source": [
        "Load the MNIST dataset and split it into training and test chunks."
      ]
    },
    {
      "cell_type": "code",
      "execution_count": 21,
      "metadata": {
        "id": "eQN-PtIGgFtH"
      },
      "outputs": [],
      "source": [
        "# Load the dataset we'll use for this lab\n",
        "datasets, info = tfds.load(name='mnist', with_info=True, as_supervised=True, data_dir='./data')\n",
        "\n",
        "mnist_train, mnist_test = datasets['train'], datasets['test']"
      ]
    },
    {
      "cell_type": "markdown",
      "metadata": {
        "id": "b0Y0gBX8Keq5"
      },
      "source": [
        "Next, you define `strategy` using the `MirroredStrategy()` class. Print to see the number of devices available.\n",
        "\n",
        "**Note:**\n",
        "- If you are running this on Coursera, you'll see it gives a warning about no presence of GPU devices.\n",
        "- If you are running this in Colab, make sure you have selected your `Runtime` to be `GPU` for it to detect it.\n",
        "- In both these cases, you'll see there's only 1 device that is available.\n",
        "- One device is sufficient for helping you understand these distribution strategies."
      ]
    },
    {
      "cell_type": "code",
      "execution_count": 22,
      "metadata": {
        "colab": {
          "base_uri": "https://localhost:8080/"
        },
        "id": "eCsDqWnDgNHr",
        "outputId": "e1b6dbee-95db-4e72-9216-290c16110251"
      },
      "outputs": [
        {
          "output_type": "stream",
          "name": "stdout",
          "text": [
            "Number of devices: 1\n"
          ]
        }
      ],
      "source": [
        "# Define the strategy to use and print the number of devices found\n",
        "strategy = tf.distribute.MirroredStrategy()\n",
        "print('Number of devices: {}'.format(strategy.num_replicas_in_sync))"
      ]
    },
    {
      "cell_type": "markdown",
      "metadata": {
        "id": "c5uN142HKeq7"
      },
      "source": [
        "Next, you create your training and test examples, define your batch size and also define `BATCH_SIZE_PER_REPLICA` which is the distribution you are making for each available device."
      ]
    },
    {
      "cell_type": "code",
      "execution_count": 23,
      "metadata": {
        "id": "p1xWxKcnhar9"
      },
      "outputs": [],
      "source": [
        "# Get the number of examples in the train and test sets\n",
        "num_train_examples = info.splits['train'].num_examples\n",
        "num_test_examples = info.splits['test'].num_examples\n",
        "\n",
        "BUFFER_SIZE = 10000\n",
        "\n",
        "BATCH_SIZE_PER_REPLICA = 64\n",
        "# Use for Mirrored Strategy\n",
        "BATCH_SIZE = BATCH_SIZE_PER_REPLICA * strategy.num_replicas_in_sync\n",
        "# Use for No Strategy\n",
        "# BATCH_SIZE = BATCH_SIZE_PER_REPLICA * 1"
      ]
    },
    {
      "cell_type": "markdown",
      "metadata": {
        "id": "CEfgTF7MKeq9"
      },
      "source": [
        "A mapping function which normalizes your images:"
      ]
    },
    {
      "cell_type": "code",
      "execution_count": 24,
      "metadata": {
        "id": "aPIU8E7BhyYq"
      },
      "outputs": [],
      "source": [
        "# Function for normalizing the image\n",
        "def scale(image, label):\n",
        "    image = tf.cast(image, tf.float32)\n",
        "    image /= 255\n",
        "\n",
        "    return image, label"
      ]
    },
    {
      "cell_type": "markdown",
      "metadata": {
        "id": "8wiFOsujKeq-"
      },
      "source": [
        "Next, you create your training and evaluation datesets in the batch size you want by shuffling through your buffer size."
      ]
    },
    {
      "cell_type": "code",
      "execution_count": 25,
      "metadata": {
        "id": "ByTZB2AYh0nA"
      },
      "outputs": [],
      "source": [
        "# Set up the train and eval data set\n",
        "train_dataset = mnist_train.map(scale).cache().shuffle(BUFFER_SIZE).batch(BATCH_SIZE)\n",
        "eval_dataset = mnist_test.map(scale).batch(BATCH_SIZE)"
      ]
    },
    {
      "cell_type": "markdown",
      "metadata": {
        "id": "fPeICwNQKeq_"
      },
      "source": [
        "For your model to follow the strategy, define your model within the strategy's scope.\n",
        "- Run all the cells below and notice the results.\n",
        "- Afterwards comment out `with strategy.scope():` and run everything again, without the strategy.\n",
        "Then you can compare the results.\n",
        "The important thing to notice and compare is the time taken for each epoch to complete. As mentioned in the lecture, doing a mirrored strategy on a single device (which our lab environment has) might take longer to train because of the overhead in implementing the strategy. With that, the advantages of using this strategy is more evident if you will use it on multiple devices."
      ]
    },
    {
      "cell_type": "code",
      "execution_count": 26,
      "metadata": {
        "id": "7rRzY5ojh51B"
      },
      "outputs": [],
      "source": [
        "# Use for Mirrored Strategy -- comment out `with strategy.scope():` and deindent for no strategy\n",
        "with strategy.scope():\n",
        "    model = tf.keras.Sequential([\n",
        "      tf.keras.layers.Conv2D(32, 3, activation='relu', input_shape=(28, 28, 1)),\n",
        "      tf.keras.layers.MaxPooling2D(),\n",
        "      tf.keras.layers.Flatten(),\n",
        "      tf.keras.layers.Dense(64, activation='relu'),\n",
        "      tf.keras.layers.Dense(10)\n",
        "    ])"
      ]
    },
    {
      "cell_type": "code",
      "execution_count": 27,
      "metadata": {
        "id": "NWOJWLENphod"
      },
      "outputs": [],
      "source": [
        "model.compile(loss=tf.keras.losses.SparseCategoricalCrossentropy(from_logits=True),\n",
        "                optimizer=tf.keras.optimizers.Adam(),\n",
        "                metrics=['accuracy'])"
      ]
    },
    {
      "cell_type": "code",
      "execution_count": 28,
      "metadata": {
        "colab": {
          "base_uri": "https://localhost:8080/"
        },
        "id": "-8voqkush_Bx",
        "outputId": "511f2a07-1cd5-4776-d020-316ee1bbf3b4"
      },
      "outputs": [
        {
          "output_type": "stream",
          "name": "stdout",
          "text": [
            "Epoch 1/12\n",
            "938/938 [==============================] - 15s 13ms/step - loss: 0.2080 - accuracy: 0.9401\n",
            "Epoch 2/12\n",
            "938/938 [==============================] - 9s 9ms/step - loss: 0.0663 - accuracy: 0.9802\n",
            "Epoch 3/12\n",
            "938/938 [==============================] - 6s 6ms/step - loss: 0.0463 - accuracy: 0.9863\n",
            "Epoch 4/12\n",
            "938/938 [==============================] - 4s 4ms/step - loss: 0.0350 - accuracy: 0.9889\n",
            "Epoch 5/12\n",
            "938/938 [==============================] - 5s 5ms/step - loss: 0.0269 - accuracy: 0.9916\n",
            "Epoch 6/12\n",
            "938/938 [==============================] - 4s 5ms/step - loss: 0.0206 - accuracy: 0.9935\n",
            "Epoch 7/12\n",
            "938/938 [==============================] - 5s 5ms/step - loss: 0.0154 - accuracy: 0.9954\n",
            "Epoch 8/12\n",
            "938/938 [==============================] - 5s 5ms/step - loss: 0.0126 - accuracy: 0.9957\n",
            "Epoch 9/12\n",
            "938/938 [==============================] - 5s 6ms/step - loss: 0.0101 - accuracy: 0.9968\n",
            "Epoch 10/12\n",
            "938/938 [==============================] - 4s 5ms/step - loss: 0.0076 - accuracy: 0.9977\n",
            "Epoch 11/12\n",
            "938/938 [==============================] - 5s 5ms/step - loss: 0.0060 - accuracy: 0.9982\n",
            "Epoch 12/12\n",
            "938/938 [==============================] - 5s 5ms/step - loss: 0.0063 - accuracy: 0.9979\n"
          ]
        },
        {
          "output_type": "execute_result",
          "data": {
            "text/plain": [
              "<keras.callbacks.History at 0x7fe9605620b0>"
            ]
          },
          "metadata": {},
          "execution_count": 28
        }
      ],
      "source": [
        "model.fit(train_dataset, epochs=12)"
      ]
    },
    {
      "cell_type": "code",
      "source": [
        "model = tf.keras.Sequential([\n",
        "      tf.keras.layers.Conv2D(32, 3, activation='relu', input_shape=(28, 28, 1)),\n",
        "      tf.keras.layers.MaxPooling2D(),\n",
        "      tf.keras.layers.Flatten(),\n",
        "      tf.keras.layers.Dense(64, activation='relu'),\n",
        "      tf.keras.layers.Dense(10)\n",
        "    ])\n",
        "model.compile(loss=tf.keras.losses.SparseCategoricalCrossentropy(from_logits=True),\n",
        "                optimizer=tf.keras.optimizers.Adam(),\n",
        "                metrics=['accuracy'])\n",
        "model.fit(train_dataset, epochs=12)"
      ],
      "metadata": {
        "colab": {
          "base_uri": "https://localhost:8080/"
        },
        "id": "AeFy3yvUBfqs",
        "outputId": "667354c5-3704-4d8d-dc7d-a1aa3149e628"
      },
      "execution_count": 29,
      "outputs": [
        {
          "output_type": "stream",
          "name": "stdout",
          "text": [
            "Epoch 1/12\n",
            "938/938 [==============================] - 8s 4ms/step - loss: 0.2148 - accuracy: 0.9379\n",
            "Epoch 2/12\n",
            "938/938 [==============================] - 3s 3ms/step - loss: 0.0718 - accuracy: 0.9787\n",
            "Epoch 3/12\n",
            "938/938 [==============================] - 4s 4ms/step - loss: 0.0504 - accuracy: 0.9847\n",
            "Epoch 4/12\n",
            "938/938 [==============================] - 3s 3ms/step - loss: 0.0374 - accuracy: 0.9888\n",
            "Epoch 5/12\n",
            "938/938 [==============================] - 3s 3ms/step - loss: 0.0283 - accuracy: 0.9915\n",
            "Epoch 6/12\n",
            "938/938 [==============================] - 4s 4ms/step - loss: 0.0218 - accuracy: 0.9937\n",
            "Epoch 7/12\n",
            "938/938 [==============================] - 3s 3ms/step - loss: 0.0165 - accuracy: 0.9948\n",
            "Epoch 8/12\n",
            "938/938 [==============================] - 3s 3ms/step - loss: 0.0130 - accuracy: 0.9959\n",
            "Epoch 9/12\n",
            "938/938 [==============================] - 4s 5ms/step - loss: 0.0099 - accuracy: 0.9969\n",
            "Epoch 10/12\n",
            "938/938 [==============================] - 4s 4ms/step - loss: 0.0087 - accuracy: 0.9972\n",
            "Epoch 11/12\n",
            "938/938 [==============================] - 3s 3ms/step - loss: 0.0076 - accuracy: 0.9976\n",
            "Epoch 12/12\n",
            "938/938 [==============================] - 4s 4ms/step - loss: 0.0051 - accuracy: 0.9984\n"
          ]
        },
        {
          "output_type": "execute_result",
          "data": {
            "text/plain": [
              "<keras.callbacks.History at 0x7fe96024c3a0>"
            ]
          },
          "metadata": {},
          "execution_count": 29
        }
      ]
    }
  ],
  "metadata": {
    "accelerator": "GPU",
    "colab": {
      "provenance": [],
      "gpuType": "T4"
    },
    "kernelspec": {
      "display_name": "Python 3",
      "name": "python3"
    },
    "language_info": {
      "codemirror_mode": {
        "name": "ipython",
        "version": 3
      },
      "file_extension": ".py",
      "mimetype": "text/x-python",
      "name": "python",
      "nbconvert_exporter": "python",
      "pygments_lexer": "ipython3",
      "version": "3.7.6"
    }
  },
  "nbformat": 4,
  "nbformat_minor": 0
}